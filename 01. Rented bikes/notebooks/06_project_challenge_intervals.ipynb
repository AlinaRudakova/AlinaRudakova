{
 "cells": [
  {
   "cell_type": "code",
   "execution_count": 1,
   "id": "bdaa1164",
   "metadata": {},
   "outputs": [],
   "source": [
    "import statsmodels.tools.eval_measures as sm\n",
    "import pandas as pd\n",
    "import numpy as np\n",
    "import seaborn as sns\n",
    "import matplotlib.pyplot as plt"
   ]
  },
  {
   "cell_type": "code",
   "execution_count": 3,
   "id": "a1becae3",
   "metadata": {},
   "outputs": [
    {
     "data": {
      "text/html": [
       "<div>\n",
       "<style scoped>\n",
       "    .dataframe tbody tr th:only-of-type {\n",
       "        vertical-align: middle;\n",
       "    }\n",
       "\n",
       "    .dataframe tbody tr th {\n",
       "        vertical-align: top;\n",
       "    }\n",
       "\n",
       "    .dataframe thead th {\n",
       "        text-align: right;\n",
       "    }\n",
       "</style>\n",
       "<table border=\"1\" class=\"dataframe\">\n",
       "  <thead>\n",
       "    <tr style=\"text-align: right;\">\n",
       "      <th></th>\n",
       "      <th>season</th>\n",
       "      <th>holiday</th>\n",
       "      <th>workingday</th>\n",
       "      <th>weather</th>\n",
       "      <th>temp</th>\n",
       "      <th>atemp</th>\n",
       "      <th>humidity</th>\n",
       "      <th>windspeed</th>\n",
       "      <th>casual</th>\n",
       "      <th>registered</th>\n",
       "      <th>count</th>\n",
       "      <th>year</th>\n",
       "      <th>month</th>\n",
       "      <th>day</th>\n",
       "      <th>hour</th>\n",
       "      <th>minute</th>\n",
       "      <th>part_of_day</th>\n",
       "    </tr>\n",
       "    <tr>\n",
       "      <th>datetime</th>\n",
       "      <th></th>\n",
       "      <th></th>\n",
       "      <th></th>\n",
       "      <th></th>\n",
       "      <th></th>\n",
       "      <th></th>\n",
       "      <th></th>\n",
       "      <th></th>\n",
       "      <th></th>\n",
       "      <th></th>\n",
       "      <th></th>\n",
       "      <th></th>\n",
       "      <th></th>\n",
       "      <th></th>\n",
       "      <th></th>\n",
       "      <th></th>\n",
       "      <th></th>\n",
       "    </tr>\n",
       "  </thead>\n",
       "  <tbody>\n",
       "    <tr>\n",
       "      <th>01-01-2011 00:00</th>\n",
       "      <td>1</td>\n",
       "      <td>0</td>\n",
       "      <td>0</td>\n",
       "      <td>1</td>\n",
       "      <td>9.84</td>\n",
       "      <td>14.395</td>\n",
       "      <td>81</td>\n",
       "      <td>0.0</td>\n",
       "      <td>3.0</td>\n",
       "      <td>13.0</td>\n",
       "      <td>16</td>\n",
       "      <td>2011</td>\n",
       "      <td>1</td>\n",
       "      <td>1</td>\n",
       "      <td>0</td>\n",
       "      <td>0</td>\n",
       "      <td>night</td>\n",
       "    </tr>\n",
       "    <tr>\n",
       "      <th>01-01-2011 01:00</th>\n",
       "      <td>1</td>\n",
       "      <td>0</td>\n",
       "      <td>0</td>\n",
       "      <td>1</td>\n",
       "      <td>9.02</td>\n",
       "      <td>13.635</td>\n",
       "      <td>80</td>\n",
       "      <td>0.0</td>\n",
       "      <td>8.0</td>\n",
       "      <td>32.0</td>\n",
       "      <td>40</td>\n",
       "      <td>2011</td>\n",
       "      <td>1</td>\n",
       "      <td>1</td>\n",
       "      <td>1</td>\n",
       "      <td>0</td>\n",
       "      <td>night</td>\n",
       "    </tr>\n",
       "    <tr>\n",
       "      <th>01-01-2011 02:00</th>\n",
       "      <td>1</td>\n",
       "      <td>0</td>\n",
       "      <td>0</td>\n",
       "      <td>1</td>\n",
       "      <td>9.02</td>\n",
       "      <td>13.635</td>\n",
       "      <td>80</td>\n",
       "      <td>0.0</td>\n",
       "      <td>5.0</td>\n",
       "      <td>27.0</td>\n",
       "      <td>32</td>\n",
       "      <td>2011</td>\n",
       "      <td>1</td>\n",
       "      <td>1</td>\n",
       "      <td>2</td>\n",
       "      <td>0</td>\n",
       "      <td>night</td>\n",
       "    </tr>\n",
       "    <tr>\n",
       "      <th>01-01-2011 03:00</th>\n",
       "      <td>1</td>\n",
       "      <td>0</td>\n",
       "      <td>0</td>\n",
       "      <td>1</td>\n",
       "      <td>9.84</td>\n",
       "      <td>14.395</td>\n",
       "      <td>75</td>\n",
       "      <td>0.0</td>\n",
       "      <td>3.0</td>\n",
       "      <td>10.0</td>\n",
       "      <td>13</td>\n",
       "      <td>2011</td>\n",
       "      <td>1</td>\n",
       "      <td>1</td>\n",
       "      <td>3</td>\n",
       "      <td>0</td>\n",
       "      <td>night</td>\n",
       "    </tr>\n",
       "    <tr>\n",
       "      <th>01-01-2011 04:00</th>\n",
       "      <td>1</td>\n",
       "      <td>0</td>\n",
       "      <td>0</td>\n",
       "      <td>1</td>\n",
       "      <td>9.84</td>\n",
       "      <td>14.395</td>\n",
       "      <td>75</td>\n",
       "      <td>0.0</td>\n",
       "      <td>0.0</td>\n",
       "      <td>1.0</td>\n",
       "      <td>1</td>\n",
       "      <td>2011</td>\n",
       "      <td>1</td>\n",
       "      <td>1</td>\n",
       "      <td>4</td>\n",
       "      <td>0</td>\n",
       "      <td>night</td>\n",
       "    </tr>\n",
       "  </tbody>\n",
       "</table>\n",
       "</div>"
      ],
      "text/plain": [
       "                  season  holiday  workingday  weather  temp   atemp  \\\n",
       "datetime                                                               \n",
       "01-01-2011 00:00       1        0           0        1  9.84  14.395   \n",
       "01-01-2011 01:00       1        0           0        1  9.02  13.635   \n",
       "01-01-2011 02:00       1        0           0        1  9.02  13.635   \n",
       "01-01-2011 03:00       1        0           0        1  9.84  14.395   \n",
       "01-01-2011 04:00       1        0           0        1  9.84  14.395   \n",
       "\n",
       "                  humidity  windspeed  casual  registered  count  year  month  \\\n",
       "datetime                                                                        \n",
       "01-01-2011 00:00        81        0.0     3.0        13.0     16  2011      1   \n",
       "01-01-2011 01:00        80        0.0     8.0        32.0     40  2011      1   \n",
       "01-01-2011 02:00        80        0.0     5.0        27.0     32  2011      1   \n",
       "01-01-2011 03:00        75        0.0     3.0        10.0     13  2011      1   \n",
       "01-01-2011 04:00        75        0.0     0.0         1.0      1  2011      1   \n",
       "\n",
       "                  day  hour  minute part_of_day  \n",
       "datetime                                         \n",
       "01-01-2011 00:00    1     0       0       night  \n",
       "01-01-2011 01:00    1     1       0       night  \n",
       "01-01-2011 02:00    1     2       0       night  \n",
       "01-01-2011 03:00    1     3       0       night  \n",
       "01-01-2011 04:00    1     4       0       night  "
      ]
     },
     "execution_count": 3,
     "metadata": {},
     "output_type": "execute_result"
    }
   ],
   "source": [
    "df = pd.read_csv(\"../../03_kpi/data/dc_bikes_with_features_formatted_daytime.csv\", parse_dates=['datetime'], index_col=0)\n",
    "df.head()"
   ]
  },
  {
   "cell_type": "code",
   "execution_count": 4,
   "id": "38de0d99",
   "metadata": {},
   "outputs": [],
   "source": [
    "sample_means = []"
   ]
  },
  {
   "cell_type": "code",
   "execution_count": 5,
   "id": "dbc02696",
   "metadata": {},
   "outputs": [
    {
     "data": {
      "text/plain": [
       "datetime\n",
       "01-01-2011 00:00     0.0000\n",
       "01-01-2011 01:00     0.0000\n",
       "01-01-2011 02:00     0.0000\n",
       "01-01-2011 03:00     0.0000\n",
       "01-01-2011 04:00     0.0000\n",
       "                     ...   \n",
       "31-12-2012 19:00    11.0014\n",
       "31-12-2012 20:00    11.0014\n",
       "31-12-2012 21:00    11.0014\n",
       "31-12-2012 22:00     8.9981\n",
       "31-12-2012 23:00     8.9981\n",
       "Name: windspeed, Length: 17379, dtype: float64"
      ]
     },
     "execution_count": 5,
     "metadata": {},
     "output_type": "execute_result"
    }
   ],
   "source": [
    "windspeed = df['windspeed']\n",
    "windspeed"
   ]
  },
  {
   "cell_type": "code",
   "execution_count": 10,
   "id": "d790fbf9",
   "metadata": {},
   "outputs": [
    {
     "data": {
      "text/plain": [
       "datetime\n",
       "29-09-2012 20:00    12.9980\n",
       "27-09-2011 07:00     7.0015\n",
       "08-11-2011 20:00     0.0000\n",
       "12-02-2011 22:00     6.0032\n",
       "05-01-2012 06:00     8.9981\n",
       "                     ...   \n",
       "06-01-2012 05:00     8.9981\n",
       "03-03-2011 23:00     6.0032\n",
       "14-05-2011 07:00     0.0000\n",
       "30-04-2011 23:00     7.0015\n",
       "29-06-2012 12:00    16.9979\n",
       "Name: windspeed, Length: 100, dtype: float64"
      ]
     },
     "execution_count": 10,
     "metadata": {},
     "output_type": "execute_result"
    }
   ],
   "source": [
    "windspeed_sample = windspeed.sample(n= 100, replace=True)\n",
    "windspeed_sample"
   ]
  },
  {
   "cell_type": "code",
   "execution_count": 11,
   "id": "b32df308",
   "metadata": {},
   "outputs": [],
   "source": [
    "for i in range(10_000):\n",
    "    windspeed_sample = windspeed.sample(n= 100, replace=True)\n",
    "    sample_means.append(windspeed_sample.mean())"
   ]
  },
  {
   "cell_type": "code",
   "execution_count": 12,
   "id": "33ce4537",
   "metadata": {},
   "outputs": [
    {
     "data": {
      "text/plain": [
       "<seaborn.axisgrid.FacetGrid at 0x1d3e2a99570>"
      ]
     },
     "execution_count": 12,
     "metadata": {},
     "output_type": "execute_result"
    },
    {
     "data": {
      "image/png": "[encoded data removed]",
      "text/plain": [
       "<Figure size 500x500 with 1 Axes>"
      ]
     },
     "metadata": {},
     "output_type": "display_data"
    }
   ],
   "source": [
    "sns.displot(sample_means, kde=True, stat='probability')"
   ]
  },
  {
   "cell_type": "code",
   "execution_count": 13,
   "id": "5463afc0",
   "metadata": {},
   "outputs": [],
   "source": [
    "sample_means_series = pd.Series(sample_means)"
   ]
  },
  {
   "cell_type": "code",
   "execution_count": 20,
   "id": "94b3acbc",
   "metadata": {},
   "outputs": [],
   "source": [
    "lower_limit = sample_means_series.quantile(0.025)\n",
    "upper_limit = sample_means_series.quantile(0.975)"
   ]
  },
  {
   "cell_type": "code",
   "execution_count": 23,
   "id": "90a42f01",
   "metadata": {},
   "outputs": [
    {
     "name": "stdout",
     "output_type": "stream",
     "text": [
      "The Confidence Interval of an average windspeed in 2011, 2012 is between 11.130239324999998 and 14.370796499999997\n"
     ]
    }
   ],
   "source": [
    "print(f'The Confidence Interval of an average windspeed in 2011, 2012 is between {lower_limit} and {upper_limit}')"
   ]
  },
  {
   "cell_type": "code",
   "execution_count": 28,
   "id": "399befc0",
   "metadata": {},
   "outputs": [
    {
     "data": {
      "text/plain": [
       "12.736539622532941"
      ]
     },
     "execution_count": 28,
     "metadata": {},
     "output_type": "execute_result"
    }
   ],
   "source": [
    "df['windspeed'].mean()"
   ]
  },
  {
   "cell_type": "markdown",
   "id": "05ed076d",
   "metadata": {},
   "source": [
    "### Calculating using the z-value formula"
   ]
  },
  {
   "cell_type": "code",
   "execution_count": 29,
   "id": "4d1100eb",
   "metadata": {},
   "outputs": [
    {
     "name": "stdout",
     "output_type": "stream",
     "text": [
      "12.736539622532941 8.196795314376963\n"
     ]
    }
   ],
   "source": [
    "sample_mean = windspeed.mean()\n",
    "sample_std = windspeed.std()\n",
    "print(sample_mean, sample_std)"
   ]
  },
  {
   "cell_type": "code",
   "execution_count": 31,
   "id": "c8425774",
   "metadata": {},
   "outputs": [
    {
     "name": "stdout",
     "output_type": "stream",
     "text": [
      "Calculated Confidence Interval of the average windspeed in 2011, 2012 is between 12.614672159587796 and 12.858407085478087\n"
     ]
    }
   ],
   "source": [
    "z = 1.96\n",
    "n = len(windspeed)\n",
    "\n",
    "lower_limit_eq = sample_mean - ((z * sample_std) / np.sqrt(n))\n",
    "upper_limit_eq = sample_mean + ((z * sample_std) / np.sqrt(n))\n",
    "\n",
    "print(f'Calculated Confidence Interval of the average windspeed in 2011, 2012 is between {lower_limit_eq} and {upper_limit_eq}')\n"
   ]
  },
  {
   "cell_type": "code",
   "execution_count": null,
   "id": "c858975e",
   "metadata": {},
   "outputs": [],
   "source": []
  }
 ],
 "metadata": {
  "kernelspec": {
   "display_name": "Python 3 (ipykernel)",
   "language": "python",
   "name": "python3"
  },
  "language_info": {
   "codemirror_mode": {
    "name": "ipython",
    "version": 3
   },
   "file_extension": ".py",
   "mimetype": "text/x-python",
   "name": "python",
   "nbconvert_exporter": "python",
   "pygments_lexer": "ipython3",
   "version": "3.10.10"
  }
 },
 "nbformat": 4,
 "nbformat_minor": 5
}
